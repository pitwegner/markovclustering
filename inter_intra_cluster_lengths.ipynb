{
 "cells": [
  {
   "cell_type": "code",
   "execution_count": 31,
   "metadata": {},
   "outputs": [],
   "source": [
    "import json\n",
    "import numpy as np\n",
    "links = json.loads('[{\"source\":0,\"target\":1,\"length\":31.859511495530278},{\"source\":0,\"target\":2,\"length\":42.398926200671426},{\"source\":1,\"target\":2,\"length\":42.33535158174871},{\"source\":2,\"target\":3,\"length\":50.27333053306086},{\"source\":2,\"target\":4,\"length\":59.277336810014994},{\"source\":2,\"target\":5,\"length\":46.1715197541994},{\"source\":3,\"target\":6,\"length\":47.79362320592454},{\"source\":3,\"target\":7,\"length\":37.691426109384025},{\"source\":3,\"target\":8,\"length\":34.43362417517333},{\"source\":4,\"target\":9,\"length\":44.709753937260956},{\"source\":4,\"target\":10,\"length\":45.67239747250856},{\"source\":4,\"target\":11,\"length\":33.368761427825426},{\"source\":4,\"target\":12,\"length\":39.587994105331035},{\"source\":4,\"target\":13,\"length\":52.78573783718684},{\"source\":4,\"target\":14,\"length\":38.02273205666688},{\"source\":5,\"target\":15,\"length\":37.794953779608754},{\"source\":5,\"target\":16,\"length\":47.63293677234302},{\"source\":5,\"target\":17,\"length\":39.623701680527915},{\"source\":6,\"target\":7,\"length\":30.8329167248602},{\"source\":6,\"target\":8,\"length\":29.235447554072277},{\"source\":7,\"target\":8,\"length\":40.84278073302521},{\"source\":9,\"target\":10,\"length\":27.50774375547583},{\"source\":9,\"target\":11,\"length\":46.10687227225339},{\"source\":9,\"target\":12,\"length\":46.92640956238072},{\"source\":9,\"target\":13,\"length\":37.73680961437025},{\"source\":9,\"target\":14,\"length\":31.058517942239327},{\"source\":10,\"target\":11,\"length\":32.18336379149469},{\"source\":10,\"target\":12,\"length\":33.37678159869861},{\"source\":10,\"target\":13,\"length\":36.15588655764526},{\"source\":10,\"target\":14,\"length\":44.37404651818326},{\"source\":11,\"target\":12,\"length\":44.02303296957842},{\"source\":11,\"target\":13,\"length\":32.58323251523402},{\"source\":12,\"target\":14,\"length\":38.10974612997868},{\"source\":15,\"target\":16,\"length\":48.54785328188432},{\"source\":15,\"target\":17,\"length\":32.85881037277571},{\"source\":16,\"target\":17,\"length\":48.58789654365624},{\"source\":17,\"target\":7,\"length\":36.97040842639771},{\"source\":16,\"target\":6,\"length\":53.50289159749899},{\"source\":16,\"target\":7,\"length\":49.95216918548713},{\"source\":16,\"target\":8,\"length\":48.48093185824983},{\"source\":16,\"target\":9,\"length\":42.809803395169304},{\"source\":16,\"target\":11,\"length\":55.10379827975356},{\"source\":16,\"target\":13,\"length\":41.96790374866793},{\"source\":16,\"target\":14,\"length\":56.151588525951894},{\"source\":16,\"target\":10,\"length\":60.939317776364355}]')\n",
    "clusters = {(4, 9, 10, 11, 12, 13, 14), (3, 6, 7, 8), (0, 1, 2), (5, 15, 17), (15, 16)}"
   ]
  },
  {
   "cell_type": "code",
   "execution_count": 44,
   "metadata": {},
   "outputs": [
    {
     "name": "stdout",
     "output_type": "stream",
     "text": [
      "38.72705635353222 6.375133914301204\n"
     ]
    }
   ],
   "source": [
    "def comparator(x):\n",
    "    return x[\"target\"] in pair and x[\"source\"] in pair\n",
    "\n",
    "import itertools\n",
    "intra_cluster = []\n",
    "intra_links = set()\n",
    "for cluster in clusters:\n",
    "    for pair in itertools.combinations(cluster, 2):\n",
    "        intra_links.add(pair)\n",
    "        link = filter(comparator, links)\n",
    "        for l in link:\n",
    "            intra_cluster.append(l[\"length\"])\n",
    "print(np.mean(intra_cluster), np.std(intra_cluster))"
   ]
  },
  {
   "cell_type": "code",
   "execution_count": 35,
   "metadata": {},
   "outputs": [
    {
     "name": "stdout",
     "output_type": "stream",
     "text": [
      "49.84441665762966 6.503748468061559\n"
     ]
    }
   ],
   "source": [
    "perms = itertools.combinations([i for i in range(18)], 2)\n",
    "inter_links = set()\n",
    "for p in perms:\n",
    "    inter_links.add(p)\n",
    "\n",
    "inter_cluster = []\n",
    "for pair in (possible - intra_links):\n",
    "        link = filter(lambda x: (x[\"target\"] in pair and x[\"source\"] in pair), links)\n",
    "        for l in link:\n",
    "            inter_cluster.append(l[\"length\"])\n",
    "print(np.mean(inter_cluster), np.std(inter_cluster))"
   ]
  },
  {
   "cell_type": "code",
   "execution_count": null,
   "metadata": {},
   "outputs": [],
   "source": []
  }
 ],
 "metadata": {
  "kernelspec": {
   "display_name": "Python 3",
   "language": "python",
   "name": "python3"
  },
  "language_info": {
   "codemirror_mode": {
    "name": "ipython",
    "version": 3
   },
   "file_extension": ".py",
   "mimetype": "text/x-python",
   "name": "python",
   "nbconvert_exporter": "python",
   "pygments_lexer": "ipython3",
   "version": "3.7.3"
  }
 },
 "nbformat": 4,
 "nbformat_minor": 2
}
