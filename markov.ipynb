{
 "cells": [
  {
   "cell_type": "code",
   "execution_count": 41,
   "metadata": {},
   "outputs": [],
   "source": [
    "import numpy as np\n",
    "import pandas as pd\n",
    "import math\n",
    "import os\n",
    "import sklearn.preprocessing\n",
    "import markov_clustering as mc\n",
    "from scipy.sparse import isspmatrix\n",
    "np.set_printoptions(precision=1,suppress=True)"
   ]
  },
  {
   "cell_type": "code",
   "execution_count": 42,
   "metadata": {},
   "outputs": [],
   "source": [
    "mail = pd.read_csv('mails.csv')\n",
    "\n",
    "source_set = set(mail['source'])\n",
    "target_set = set(mail['target'])\n",
    "num_people = len(source_set.union(target_set))\n",
    "\n",
    "G = np.zeros((num_people,num_people))\n",
    "for i, m in mail.iterrows():\n",
    "    G[m.source,m.target] = m.weight\n",
    "    G[m.target,m.source] = m.weight"
   ]
  },
  {
   "cell_type": "code",
   "execution_count": 43,
   "metadata": {},
   "outputs": [],
   "source": [
    "class MCL:\n",
    "    def __init__(self, G, e, r, loop_value=1):\n",
    "        self.T = G\n",
    "        np.fill_diagonal(self.T, loop_value)\n",
    "        self.e = e\n",
    "        self.r = r\n",
    "        \n",
    "    def normalize(self):\n",
    "        self.T = sklearn.preprocessing.normalize(self.T, norm='l1', axis=0)\n",
    "        \n",
    "    def inflate(self):\n",
    "        self.T = np.power(self.T, self.r)\n",
    "    \n",
    "    def expand(self):\n",
    "        self.T = np.linalg.matrix_power(self.T, self.e)\n",
    "    \n",
    "    def converged(self):\n",
    "        return np.allclose(self.T, self.G)\n",
    "        \n",
    "    def run(self):\n",
    "        print(\"=\"*30)\n",
    "        print(\"Inflation Factor:\", self.r)\n",
    "        print(\"Expansion Factor:\", self.e)\n",
    "        print(\"Input Graph:\")\n",
    "        print(self.T)\n",
    "        print(\"=\"*30)\n",
    "        \n",
    "        self.normalize()\n",
    "        self.G = self.T.copy()\n",
    "        while True:\n",
    "            self.expand()\n",
    "            self.inflate()\n",
    "            self.normalize()\n",
    "            if self.converged():\n",
    "                break\n",
    "            self.G = self.T.copy()\n",
    "    \n",
    "    def get_clusters(self):\n",
    "        clusters = set()\n",
    "        for row in set(self.T.nonzero()[0]):\n",
    "            clusters.add(tuple(self.T[row].nonzero()[0]))\n",
    "        return clusters\n",
    "        \n",
    "    def get_matrix(self):\n",
    "        return self.T\n",
    "    \n",
    "    def to_json(self):\n",
    "        export = []\n",
    "        for row in range(self.T.shape[0]):\n",
    "            for column in range(self.T.shape[1]):\n",
    "                if self.T[row, column] > 1e-4:\n",
    "                    export.append([row, column, self.T[row, column]])\n",
    "        export = pd.DataFrame(export,columns=['source', 'target', 'weight'])\n",
    "        return export.to_json(orient='records')\n",
    "        "
   ]
  },
  {
   "cell_type": "code",
   "execution_count": 44,
   "metadata": {},
   "outputs": [
    {
     "name": "stdout",
     "output_type": "stream",
     "text": [
      "==============================\n",
      "Inflation Factor: 3.1\n",
      "Expansion Factor: 2\n",
      "Input Graph:\n",
      "[[1. 1. 1. 0. 0. 0. 0. 0. 0. 0. 0. 0. 0. 0. 0. 0. 0. 0.]\n",
      " [1. 1. 1. 0. 0. 0. 0. 0. 0. 0. 0. 0. 0. 0. 0. 0. 0. 0.]\n",
      " [1. 1. 1. 2. 2. 3. 0. 0. 0. 0. 0. 0. 0. 0. 0. 0. 0. 0.]\n",
      " [0. 0. 2. 1. 0. 0. 4. 5. 5. 0. 0. 0. 0. 0. 0. 0. 0. 0.]\n",
      " [0. 0. 2. 0. 1. 0. 0. 0. 0. 6. 4. 5. 7. 4. 5. 0. 0. 0.]\n",
      " [0. 0. 3. 0. 0. 1. 0. 0. 0. 0. 0. 0. 0. 0. 0. 5. 3. 5.]\n",
      " [0. 0. 0. 4. 0. 0. 1. 3. 4. 0. 0. 0. 0. 0. 0. 0. 2. 0.]\n",
      " [0. 0. 0. 5. 0. 0. 3. 1. 4. 0. 0. 0. 0. 0. 0. 0. 2. 1.]\n",
      " [0. 0. 0. 5. 0. 0. 4. 4. 1. 0. 0. 0. 0. 0. 0. 0. 3. 0.]\n",
      " [0. 0. 0. 0. 6. 0. 0. 0. 0. 1. 2. 4. 7. 2. 4. 0. 2. 0.]\n",
      " [0. 0. 0. 0. 4. 0. 0. 0. 0. 2. 1. 5. 5. 4. 3. 0. 2. 0.]\n",
      " [0. 0. 0. 0. 5. 0. 0. 0. 0. 4. 5. 1. 3. 4. 0. 0. 2. 0.]\n",
      " [0. 0. 0. 0. 7. 0. 0. 0. 0. 7. 5. 3. 1. 0. 3. 0. 0. 0.]\n",
      " [0. 0. 0. 0. 4. 0. 0. 0. 0. 2. 4. 4. 0. 1. 0. 0. 2. 0.]\n",
      " [0. 0. 0. 0. 5. 0. 0. 0. 0. 4. 3. 0. 3. 0. 1. 0. 2. 0.]\n",
      " [0. 0. 0. 0. 0. 5. 0. 0. 0. 0. 0. 0. 0. 0. 0. 1. 3. 4.]\n",
      " [0. 0. 0. 0. 0. 3. 2. 2. 3. 2. 2. 2. 0. 2. 2. 3. 1. 5.]\n",
      " [0. 0. 0. 0. 0. 5. 0. 1. 0. 0. 0. 0. 0. 0. 0. 4. 5. 1.]]\n",
      "==============================\n",
      "{(4, 9, 10, 11, 12, 13, 14), (3, 6, 7, 8), (0, 1, 2), (5, 15, 17), (15, 16)}\n",
      "[{\"source\":2,\"target\":0,\"weight\":1.0},{\"source\":2,\"target\":1,\"weight\":1.0},{\"source\":2,\"target\":2,\"weight\":1.0},{\"source\":3,\"target\":3,\"weight\":1.0},{\"source\":3,\"target\":6,\"weight\":1.0},{\"source\":3,\"target\":7,\"weight\":1.0},{\"source\":3,\"target\":8,\"weight\":1.0},{\"source\":4,\"target\":4,\"weight\":1.0},{\"source\":4,\"target\":9,\"weight\":1.0},{\"source\":4,\"target\":10,\"weight\":1.0},{\"source\":4,\"target\":11,\"weight\":1.0},{\"source\":4,\"target\":12,\"weight\":1.0},{\"source\":4,\"target\":13,\"weight\":1.0},{\"source\":4,\"target\":14,\"weight\":1.0},{\"source\":5,\"target\":5,\"weight\":1.0},{\"source\":5,\"target\":17,\"weight\":1.0},{\"source\":16,\"target\":15,\"weight\":1.0},{\"source\":16,\"target\":16,\"weight\":1.0}]\n"
     ]
    }
   ],
   "source": [
    "M = MCL(G, 2, 3.1) # optimal modularity\n",
    "M.run()\n",
    "print(M.get_clusters())\n",
    "print(M.to_json())"
   ]
  },
  {
   "cell_type": "code",
   "execution_count": null,
   "metadata": {},
   "outputs": [],
   "source": []
  }
 ],
 "metadata": {
  "kernelspec": {
   "display_name": "Python 3",
   "language": "python",
   "name": "python3"
  },
  "language_info": {
   "codemirror_mode": {
    "name": "ipython",
    "version": 3
   },
   "file_extension": ".py",
   "mimetype": "text/x-python",
   "name": "python",
   "nbconvert_exporter": "python",
   "pygments_lexer": "ipython3",
   "version": "3.7.3"
  }
 },
 "nbformat": 4,
 "nbformat_minor": 2
}
