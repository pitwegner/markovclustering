{
 "cells": [
  {
   "cell_type": "code",
   "execution_count": 1,
   "metadata": {},
   "outputs": [],
   "source": [
    "import numpy as np\n",
    "import pandas as pd\n",
    "import sklearn.preprocessing\n",
    "import markov_clustering as mc\n",
    "np.set_printoptions(precision=1,suppress=True)"
   ]
  },
  {
   "cell_type": "code",
   "execution_count": 2,
   "metadata": {},
   "outputs": [],
   "source": [
    "mail = pd.read_csv('mails.csv')\n",
    "\n",
    "source_set = set(mail['source'])\n",
    "target_set = set(mail['target'])\n",
    "num_people = len(source_set.union(target_set))\n",
    "\n",
    "G = np.zeros((num_people,num_people))\n",
    "G_no_weights = np.zeros((num_people,num_people))\n",
    "G_no_weights = G.copy()\n",
    "for i, m in mail.iterrows():\n",
    "    G[m.source,m.target] = m.weight\n",
    "    G[m.target,m.source] = m.weight\n",
    "    G_no_weights[m.source,m.target] = 1\n",
    "    G_no_weights[m.target,m.source] = 1"
   ]
  },
  {
   "cell_type": "code",
   "execution_count": 3,
   "metadata": {},
   "outputs": [],
   "source": [
    "class MCL:\n",
    "    def __init__(self, G, e, r, loop_value=1, verbose=False):\n",
    "        self.T = G\n",
    "        np.fill_diagonal(self.T, loop_value)\n",
    "        self.e = e\n",
    "        self.r = r\n",
    "        self.verbose = verbose\n",
    "        \n",
    "    def normalize(self):\n",
    "        self.T = sklearn.preprocessing.normalize(self.T, norm='l1', axis=0)\n",
    "        \n",
    "    def inflate(self):\n",
    "        self.T = np.power(self.T, self.r)\n",
    "    \n",
    "    def expand(self):\n",
    "        self.T = np.linalg.matrix_power(self.T, self.e)\n",
    "    \n",
    "    def converged(self):\n",
    "        return np.allclose(self.T, self.G)\n",
    "        \n",
    "    def run(self):\n",
    "        if self.verbose:\n",
    "            print(\"=\"*30)\n",
    "            print(\"Inflation Factor:\", self.r)\n",
    "            print(\"Expansion Factor:\", self.e)\n",
    "            print(\"Input Graph:\")\n",
    "            print(self.T)\n",
    "            print(\"=\"*30)\n",
    "        \n",
    "        self.normalize()\n",
    "        self.G = self.T.copy()\n",
    "        while True:\n",
    "            self.expand()\n",
    "            self.inflate()\n",
    "            self.normalize()\n",
    "            if self.converged():\n",
    "                break\n",
    "            self.G = self.T.copy()\n",
    "    \n",
    "    def get_clusters(self):\n",
    "        clusters = set()\n",
    "        for row in set(self.T.nonzero()[0]):\n",
    "            clusters.add(tuple(self.T[row].nonzero()[0]))\n",
    "        return clusters\n",
    "        \n",
    "    def get_matrix(self):\n",
    "        return self.T\n",
    "    \n",
    "    def to_json(self):\n",
    "        export = []\n",
    "        for row in range(self.T.shape[0]):\n",
    "            for column in range(self.T.shape[1]):\n",
    "                if self.T[row, column] > 1e-4:\n",
    "                    export.append([row, column, self.T[row, column]])\n",
    "        export = pd.DataFrame(export,columns=['source', 'target', 'weight'])\n",
    "        return export.to_json(orient='records')\n",
    "        "
   ]
  },
  {
   "cell_type": "code",
   "execution_count": 4,
   "metadata": {},
   "outputs": [
    {
     "name": "stdout",
     "output_type": "stream",
     "text": [
      "{(4, 9, 10, 11, 12, 13, 14), (3, 6, 7, 8), (0, 1, 2), (5, 15, 17), (15, 16)}\n",
      "[{\"source\":2,\"target\":0,\"weight\":1.0},{\"source\":2,\"target\":1,\"weight\":1.0},{\"source\":2,\"target\":2,\"weight\":1.0},{\"source\":3,\"target\":3,\"weight\":1.0},{\"source\":3,\"target\":6,\"weight\":1.0},{\"source\":3,\"target\":7,\"weight\":1.0},{\"source\":3,\"target\":8,\"weight\":1.0},{\"source\":4,\"target\":4,\"weight\":1.0},{\"source\":4,\"target\":9,\"weight\":1.0},{\"source\":4,\"target\":10,\"weight\":1.0},{\"source\":4,\"target\":11,\"weight\":1.0},{\"source\":4,\"target\":12,\"weight\":1.0},{\"source\":4,\"target\":13,\"weight\":1.0},{\"source\":4,\"target\":14,\"weight\":1.0},{\"source\":5,\"target\":5,\"weight\":1.0},{\"source\":5,\"target\":17,\"weight\":1.0},{\"source\":16,\"target\":15,\"weight\":1.0},{\"source\":16,\"target\":16,\"weight\":1.0}]\n"
     ]
    }
   ],
   "source": [
    "M = MCL(G, 2, 3.1) # optimal modularity\n",
    "M.run()\n",
    "print(M.get_clusters())\n",
    "print(M.to_json())"
   ]
  },
  {
   "cell_type": "code",
   "execution_count": 5,
   "metadata": {},
   "outputs": [
    {
     "name": "stdout",
     "output_type": "stream",
     "text": [
      "{(3, 6, 7, 8), (0, 1, 2), (4, 12), (5, 15, 16, 17), (9, 10, 11, 12, 13, 14)}\n",
      "[{\"source\":2,\"target\":0,\"weight\":1.0},{\"source\":2,\"target\":1,\"weight\":1.0},{\"source\":2,\"target\":2,\"weight\":1.0},{\"source\":4,\"target\":4,\"weight\":1.0},{\"source\":7,\"target\":3,\"weight\":1.0},{\"source\":7,\"target\":6,\"weight\":1.0},{\"source\":7,\"target\":7,\"weight\":1.0},{\"source\":7,\"target\":8,\"weight\":1.0},{\"source\":9,\"target\":9,\"weight\":0.5},{\"source\":9,\"target\":10,\"weight\":0.5},{\"source\":9,\"target\":11,\"weight\":0.5},{\"source\":9,\"target\":12,\"weight\":0.5},{\"source\":9,\"target\":13,\"weight\":0.5},{\"source\":9,\"target\":14,\"weight\":0.5},{\"source\":10,\"target\":9,\"weight\":0.5},{\"source\":10,\"target\":10,\"weight\":0.5},{\"source\":10,\"target\":11,\"weight\":0.5},{\"source\":10,\"target\":12,\"weight\":0.5},{\"source\":10,\"target\":13,\"weight\":0.5},{\"source\":10,\"target\":14,\"weight\":0.5},{\"source\":16,\"target\":5,\"weight\":1.0},{\"source\":16,\"target\":15,\"weight\":1.0},{\"source\":16,\"target\":16,\"weight\":1.0},{\"source\":16,\"target\":17,\"weight\":1.0}]\n"
     ]
    }
   ],
   "source": [
    "M = MCL(G_no_weights, 2, 5.0) # optimal modularity\n",
    "M.run()\n",
    "print(M.get_clusters())\n",
    "print(M.to_json())"
   ]
  },
  {
   "cell_type": "code",
   "execution_count": null,
   "metadata": {},
   "outputs": [],
   "source": []
  }
 ],
 "metadata": {
  "kernelspec": {
   "display_name": "Python 3",
   "language": "python",
   "name": "python3"
  },
  "language_info": {
   "codemirror_mode": {
    "name": "ipython",
    "version": 3
   },
   "file_extension": ".py",
   "mimetype": "text/x-python",
   "name": "python",
   "nbconvert_exporter": "python",
   "pygments_lexer": "ipython3",
   "version": "3.7.3"
  }
 },
 "nbformat": 4,
 "nbformat_minor": 2
}
